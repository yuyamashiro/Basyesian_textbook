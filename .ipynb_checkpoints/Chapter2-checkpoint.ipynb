{
 "cells": [
  {
   "cell_type": "code",
   "execution_count": 11,
   "metadata": {},
   "outputs": [],
   "source": [
    "import numpy as np\n",
    "import matplotlib.pyplot as plt\n",
    "%matplotlib inline"
   ]
  },
  {
   "cell_type": "markdown",
   "metadata": {},
   "source": [
    "# Chapter2 モンテカルロ法\n",
    "\n",
    "ある確率分布$\\pi(x)$に従う乱数 $x$ を発生させることを考える。"
   ]
  },
  {
   "cell_type": "markdown",
   "metadata": {},
   "source": [
    "## 逆変換法\n",
    "\n",
    "連続型確率変数$x$の分布関数を\n",
    "$$F(z) = \\int^z_{-\\infty}\\pi(x)dx$$\n",
    "と表すとする。\n",
    "### アルゴリズム\n",
    "\n",
    "1. 一様分布$U(0,1)$から$u$を発生させる。\n",
    "2. $x=F^{-1}(x)$を返す。  \n",
    "\n",
    "### 例 :指数分布\n",
    "$$\\pi(x;\\theta)  = \\begin{cases}\\theta e^{-\\theta{x}} ~&(x\\geq 0)\\\\ 0 ~&(x < 0)\\end{cases}$$\n",
    "分布関数は $F(z) = 1-e^{-\\theta z}$ である. 逆関数は$F^{-1}(u) = -\\frac{1}{\\theta}\\log(1-u)$なのでここからサンプルする."
   ]
  },
  {
   "cell_type": "code",
   "execution_count": 25,
   "metadata": {},
   "outputs": [
    {
     "data": {
      "image/png": "[encoded data removed]",
      "text/plain": [
       "<matplotlib.figure.Figure at 0x116bd0cf8>"
      ]
     },
     "metadata": {},
     "output_type": "display_data"
    }
   ],
   "source": [
    "n = 1000 # number of sampling\n",
    "\n",
    "# sampling from exponential distribution\n",
    "def sampling_from_exp(theta, n):\n",
    "    inv_F = lambda u: -1/theta * np.log(1-u) # inverse of distribution function F(z)\n",
    "    return inv_F(np.random.rand(n))\n",
    "\n",
    "theta = 0.5\n",
    "pi = lambda x: theta * np.exp(-theta * x) if x >= 0 else 0  # target : probability densty function (PDF)\n",
    "sampled_x = sampling_from_exp(theta, n)\n",
    "\n",
    "plt.plot(np.arange(0,20,0.1), [pi(x) for x in np.arange(0,20,0.1)]) # plot PDF\n",
    "plt.hist(sampled_x, normed=True)\n",
    "plt.show()"
   ]
  },
  {
   "cell_type": "markdown",
   "metadata": {},
   "source": [
    "## 棄却法\n",
    "### アルゴリズム\n",
    "1. $q(y)$から$y$をサンプル\n",
    "2. $U(0,1)$から$u$をサンプル\n",
    "3. $u\\leq \\pi(y)/Cq(y)$ であれば受容し$x=y$としてサンプル。そうでなければ$y$を棄却して1へ\n",
    "\n",
    "### 例 : 切断正規分布\n",
    "$$\\pi(x) = \\frac{2}{\\sqrt{2\\pi}}e^{-x^2/2} ~~(x \\geq 0)$$\n",
    "$q(x)$には$e^{-x}$を採用するとしよう（上の逆変換法でサンプリングを実装済）。すると少し計算すると$C=\\sqrt{2e/pi}$を選ぶと一番ぴったりで、$q(x)$で$\\pi(x)$を覆うことができる。これを使ってサンプリングする。"
   ]
  },
  {
   "cell_type": "code",
   "execution_count": 55,
   "metadata": {},
   "outputs": [
    {
     "data": {
      "text/plain": [
       "<matplotlib.legend.Legend at 0x11c7a8400>"
      ]
     },
     "execution_count": 55,
     "metadata": {},
     "output_type": "execute_result"
    },
    {
     "data": {
      "image/png": "[encoded data removed]",
      "text/plain": [
       "<matplotlib.figure.Figure at 0x11c6a77b8>"
      ]
     },
     "metadata": {},
     "output_type": "display_data"
    }
   ],
   "source": [
    "pi = lambda x: 2/np.sqrt(2*np.pi)*np.exp(-x**2/2)\n",
    "q = lambda x: np.exp(-x)\n",
    "\n",
    "C = np.sqrt(2*np.e / np.pi)\n",
    "def refection_sampling_truncated_gaussian(n):\n",
    "    y = sampling_from_exp(theta=1, n=n)\n",
    "    u = np.random.rand(n)\n",
    "    return y[u <= pi(y)/(C*q(y))]\n",
    "\n",
    "xlist = np.arange(0,4,0.1)\n",
    "plt.plot(xlist, pi(xlist), label='$\\pi(x)$')\n",
    "plt.plot(xlist, C*q(xlist), label='$Cq(x)$')\n",
    "plt.hist(refection_sampling_truncated_gaussian(10000), normed=True)\n",
    "plt.ylim(0,0.9)\n",
    "plt.legend()"
   ]
  },
  {
   "cell_type": "markdown",
   "metadata": {},
   "source": [
    "## 適応的棄却法\n",
    "$h(x) := \\log \\pi(x)$, $h(x)$は凸関数であるとする。\n",
    "### アルゴリズム\n",
    "1. $q_m(y)$ から $y$をサンプリング\n",
    "2. $U(0,1)$ から u をサンプリング\n",
    "3. $u \\leq \\exp(h(y) - u_m(y))$なら $x=y$ として受容。そうでなければ、$S_m$に$y$を加えて $u_m(x)$と$q_m(x)$を更新し、$y$を棄却して1に戻る。"
   ]
  },
  {
   "cell_type": "code",
   "execution_count": null,
   "metadata": {},
   "outputs": [],
   "source": [
    "# 集合 Sm\n",
    "Sm = []\n",
    "# 直線 L\n",
    "L = lambda x, x1, x2, h : (h(x2) - h(x1))/(x2 - x1) * (x-x1) + h(x1)\n",
    "def u_m(x, xm):\n",
    "    if x <= x1:\n",
    "        return L(x, Sm[1], Sm[2], h)\n",
    "    elif x:\n",
    "    elif x >= xm:\n",
    "        return L(x, x"
   ]
  }
 ],
 "metadata": {
  "kernelspec": {
   "display_name": "Python 3",
   "language": "python",
   "name": "python3"
  },
  "language_info": {
   "codemirror_mode": {
    "name": "ipython",
    "version": 3
   },
   "file_extension": ".py",
   "mimetype": "text/x-python",
   "name": "python",
   "nbconvert_exporter": "python",
   "pygments_lexer": "ipython3",
   "version": "3.6.5"
  }
 },
 "nbformat": 4,
 "nbformat_minor": 2
}
